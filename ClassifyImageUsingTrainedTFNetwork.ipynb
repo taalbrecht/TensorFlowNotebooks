{
 "cells": [
  {
   "cell_type": "code",
   "execution_count": 11,
   "metadata": {
    "collapsed": false
   },
   "outputs": [],
   "source": [
    "##Classify image in image_path\n",
    "\n",
    "#Function that labels an image using an existing tensorflow model:\n",
    "##Inputs:\n",
    "###image_path - filepath to an image to label. File type should be '.jpg'\n",
    "###model_graph_path - filepath to a tensorflow model graph to use for classification. File type should be '.pb'\n",
    "###model_labels_path - filepath to a text file of label names generated when training a tensorflow model. File type should be '.txt'\n",
    "##Outputs:\n",
    "###Array with first row corresponding to class likelihood and second row corresponding to class text labels\n",
    "def classify_image(image_path, model_graph_path, model_labels_path):\n",
    "    \n",
    "    import tensorflow as tf, sys\n",
    "    \n",
    "    # Read in the image_data\n",
    "    image_data = tf.gfile.FastGFile(image_path, 'rb').read()\n",
    "    \n",
    "    # Loads label file, strips off carriage return\n",
    "    label_lines = [line.rstrip() for line \n",
    "                       in tf.gfile.GFile(model_labels_path)]\n",
    "    \n",
    "    # Unpersists graph from file\n",
    "    with tf.gfile.FastGFile(model_graph_path, 'rb') as f:\n",
    "        graph_def = tf.GraphDef()\n",
    "        graph_def.ParseFromString(f.read())\n",
    "        _ = tf.import_graph_def(graph_def, name='')\n",
    "    \n",
    "    with tf.Session() as sess:\n",
    "        # Feed the image_data as input to the graph and get first prediction\n",
    "        softmax_tensor = sess.graph.get_tensor_by_name('final_result:0')\n",
    "        \n",
    "        predictions = sess.run(softmax_tensor, \\\n",
    "                 {'DecodeJpeg/contents:0': image_data})\n",
    "    \n",
    "    #EricW help on proper format of this output matrix. Would ideally like labeled vector or equivalent that can be coerced into a matrix\n",
    "    predictionsout = [predictions[0], label_lines]\n",
    "    \n",
    "    return predictionsout"
   ]
  },
  {
   "cell_type": "code",
   "execution_count": 12,
   "metadata": {
    "collapsed": false
   },
   "outputs": [],
   "source": [
    "#Example usage of function above\n",
    "\n",
    "predictiontest = classify_image('/opt/notebooks/PassFailHoldout/skiveandscratch2.jpg', '/opt/notebooks/output_graph.pb', '/opt/notebooks/output_labels.txt')"
   ]
  },
  {
   "cell_type": "code",
   "execution_count": null,
   "metadata": {
    "collapsed": true
   },
   "outputs": [],
   "source": []
  }
 ],
 "metadata": {
  "kernelspec": {
   "display_name": "Python 2",
   "language": "python",
   "name": "python2"
  },
  "language_info": {
   "codemirror_mode": {
    "name": "ipython",
    "version": 2
   },
   "file_extension": ".py",
   "mimetype": "text/x-python",
   "name": "python",
   "nbconvert_exporter": "python",
   "pygments_lexer": "ipython2",
   "version": "2.7.13"
  }
 },
 "nbformat": 4,
 "nbformat_minor": 2
}
