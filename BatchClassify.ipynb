{
 "cells": [
  {
   "cell_type": "markdown",
   "metadata": {},
   "source": [
    "# Function to Classify a Batch of Image Files Using a Trained Model #\n",
    "First, define the function"
   ]
  },
  {
   "cell_type": "code",
   "execution_count": 55,
   "metadata": {
    "collapsed": false,
    "deletable": true,
    "editable": true
   },
   "outputs": [],
   "source": [
    "##Classify image in image_path. Requires tensorflow to be installed on the system to work\n",
    "\n",
    "#Function that labels an image using an existing tensorflow model:\n",
    "##Inputs:\n",
    "###image_path_list - list of full filepaths from the current working directory to an image to label. File type should be '.jpg' or '.png'\n",
    "###model_graph_path - filepath to a tensorflow model graph to use for classification. File type should be '.pb'\n",
    "##Outputs:\n",
    "###Array with one column for each class and one row for each image with probability predictions for each class\n",
    "def classify_image_batch(image_path_list, model_graph_path):\n",
    "    \n",
    "    #Import required packages\n",
    "    import tensorflow as tf, sys\n",
    "    import numpy as np\n",
    "    #from PIL import Image\n",
    "        \n",
    "    ## Loads label file, strips off carriage return\n",
    "    #label_lines = [line.rstrip() for line \n",
    "    #                   in tf.gfile.GFile(model_labels_path)]\n",
    "    \n",
    "    #Read image\n",
    "    #imageread = Image.open(image_path)\n",
    "    \n",
    "    #Convert image to numpy array\n",
    "    #image_array = np.array(imageread)[:,:,0:3]\n",
    "    \n",
    "    # Unpersists graph from file\n",
    "    with tf.gfile.FastGFile(model_graph_path, 'rb') as f:\n",
    "        graph_def = tf.GraphDef()\n",
    "        graph_def.ParseFromString(f.read())\n",
    "        _ = tf.import_graph_def(graph_def, name='')\n",
    "    \n",
    "    #Start tensorflow session\n",
    "    #sess = tf.Session()\n",
    "    with tf.Session() as sess:     \n",
    "        # Define softmax tensor name\n",
    "        softmax_tensor = sess.graph.get_tensor_by_name('final_result:0')\n",
    "        \n",
    "        #Read first image in to define array shape\n",
    "        imagefile = tf.read_file(image_path_list[0])\n",
    "        image_tensor = tf.image.decode_image(imagefile)\n",
    "        image_array = image_tensor.eval()\n",
    "        \n",
    "        predictions = sess.run(softmax_tensor, \\\n",
    "                {'DecodeJpeg:0': image_array})\n",
    "        \n",
    "        output_array = np.zeros((len(image_path_list), np.shape(predictions)[1]))\n",
    "        \n",
    "        for i in range(0,len(image_path_list)):\n",
    "        \n",
    "            imagefile = tf.read_file(image_path_list[i])\n",
    "            image_tensor = tf.image.decode_image(imagefile)\n",
    "            image_array = image_tensor.eval()\n",
    "        \n",
    "            output_array[i,:] = sess.run(softmax_tensor, \\\n",
    "                    {'DecodeJpeg:0': image_array})[0]\n",
    "    \n",
    "    #Close tensorflow session to release resources\n",
    "    #sess.close()\n",
    "    \n",
    "    return output_array"
   ]
  },
  {
   "cell_type": "markdown",
   "metadata": {},
   "source": [
    "# Example Usage #"
   ]
  },
  {
   "cell_type": "markdown",
   "metadata": {},
   "source": [
    "First, get a list of files in a particular subdirectory. Make sure it only contains valid .jpeg or .png files as other ones will cause the program to crash. Coerce them into a list of full filepaths from the current working directory."
   ]
  },
  {
   "cell_type": "code",
   "execution_count": 121,
   "metadata": {
    "collapsed": false,
    "deletable": true,
    "editable": true
   },
   "outputs": [],
   "source": [
    "filelist = os.listdir(path = \"footballgood/football\", )"
   ]
  },
  {
   "cell_type": "code",
   "execution_count": 122,
   "metadata": {
    "collapsed": false
   },
   "outputs": [],
   "source": [
    "filelist2 = filelist.copy()\n",
    "\n",
    "for i in range(0,len(filelist)):\n",
    "    filelist2[i] = 'footballgood/football/' + filelist[i]"
   ]
  },
  {
   "cell_type": "code",
   "execution_count": 123,
   "metadata": {
    "collapsed": false,
    "scrolled": true
   },
   "outputs": [
    {
     "data": {
      "text/plain": [
       "['footballgood/football/2017-04-0614-29-06football11.png',\n",
       " 'footballgood/football/2017-04-0614-29-06football16.png',\n",
       " 'footballgood/football/2017-04-0614-29-13football117.png',\n",
       " 'footballgood/football/2017-04-0614-29-20football16.png',\n",
       " 'footballgood/football/2017-04-0614-29-20football18.png',\n",
       " 'footballgood/football/2017-04-0614-29-22football111.png',\n",
       " 'footballgood/football/2017-04-0614-30-49football13.png',\n",
       " 'footballgood/football/2017-04-0614-30-54football115.png',\n",
       " 'footballgood/football/2017-04-0614-30-54football19.png',\n",
       " 'footballgood/football/2017-04-0614-39-59football117.png',\n",
       " 'footballgood/football/2017-04-0614-40-06football16.png',\n",
       " 'footballgood/football/2017-04-0614-43-25football19.png',\n",
       " 'footballgood/football/2017-04-0614-43-27football113.png',\n",
       " 'footballgood/football/2017-04-0614-43-27football114.png',\n",
       " 'footballgood/football/2017-04-0614-43-30football14.png',\n",
       " 'footballgood/football/2017-04-0614-43-35football115.png',\n",
       " 'footballgood/football/2017-04-0614-43-42football14.png',\n",
       " 'footballgood/football/2017-04-0614-53-50football115.png',\n",
       " 'footballgood/football/2017-04-0614-53-50football15.png',\n",
       " 'footballgood/football/2017-04-0614-53-50football18.png',\n",
       " 'footballgood/football/2017-04-0614-53-57football111.png',\n",
       " 'footballgood/football/2017-04-0614-55-56football110.png',\n",
       " 'footballgood/football/2017-04-0614-55-56football116.png',\n",
       " 'footballgood/football/2017-04-0614-55-56football13.png',\n",
       " 'footballgood/football/2017-04-0614-55-59football113.png',\n",
       " 'footballgood/football/2017-04-0614-57-59football119.png',\n",
       " 'footballgood/football/2017-04-0614-57-59football12.png',\n",
       " 'footballgood/football/2017-04-0614-57-59football120.png',\n",
       " 'footballgood/football/2017-04-0614-58-12football14.png',\n",
       " 'footballgood/football/2017-04-0614-58-12football16.png',\n",
       " 'footballgood/football/2017-04-0614-59-06football120.png',\n",
       " 'footballgood/football/2017-04-0614-59-06football18.png',\n",
       " 'footballgood/football/2017-04-0615-02-37football14.png',\n",
       " 'footballgood/football/2017-04-0615-03-54football112.png',\n",
       " 'footballgood/football/2017-04-0615-03-58football14.png',\n",
       " 'footballgood/football/2017-04-0615-04-02football111.png']"
      ]
     },
     "execution_count": 123,
     "metadata": {},
     "output_type": "execute_result"
    }
   ],
   "source": [
    "filelist2"
   ]
  },
  {
   "cell_type": "markdown",
   "metadata": {},
   "source": [
    "Now run the batch classifier and examine the results. Note that labels are not currently included as part of the output."
   ]
  },
  {
   "cell_type": "code",
   "execution_count": 124,
   "metadata": {
    "collapsed": false
   },
   "outputs": [],
   "source": [
    "batchout = classify_image_batch(image_path_list= filelist2, model_graph_path= 'output_graph_footballbig.pb')"
   ]
  },
  {
   "cell_type": "code",
   "execution_count": 125,
   "metadata": {
    "collapsed": false
   },
   "outputs": [
    {
     "data": {
      "text/plain": [
       "array([[  3.18387210e-05,   9.99968171e-01],\n",
       "       [  5.88207832e-03,   9.94117975e-01],\n",
       "       [  1.32334651e-02,   9.86766577e-01],\n",
       "       [  4.56886506e-03,   9.95431185e-01],\n",
       "       [  5.15955221e-03,   9.94840443e-01],\n",
       "       [  3.77567322e-03,   9.96224284e-01],\n",
       "       [  1.05579186e-03,   9.98944223e-01],\n",
       "       [  1.61866006e-03,   9.98381376e-01],\n",
       "       [  3.33929923e-03,   9.96660709e-01],\n",
       "       [  5.53814415e-03,   9.94461834e-01],\n",
       "       [  1.98924681e-03,   9.98010814e-01],\n",
       "       [  1.16544333e-03,   9.98834550e-01],\n",
       "       [  6.41192403e-03,   9.93588090e-01],\n",
       "       [  3.08394269e-03,   9.96916056e-01],\n",
       "       [  1.42714917e-03,   9.98572826e-01],\n",
       "       [  4.41002334e-03,   9.95589972e-01],\n",
       "       [  7.98780564e-03,   9.92012203e-01],\n",
       "       [  6.55886251e-03,   9.93441105e-01],\n",
       "       [  9.54741299e-01,   4.52586971e-02],\n",
       "       [  9.58451536e-03,   9.90415454e-01],\n",
       "       [  6.69316156e-03,   9.93306816e-01],\n",
       "       [  8.20031017e-03,   9.91799712e-01],\n",
       "       [  7.73481152e-04,   9.99226570e-01],\n",
       "       [  1.01410749e-03,   9.98985827e-01],\n",
       "       [  5.13685681e-03,   9.94863093e-01],\n",
       "       [  1.57818152e-03,   9.98421788e-01],\n",
       "       [  1.22587674e-03,   9.98774111e-01],\n",
       "       [  4.13591182e-03,   9.95864034e-01],\n",
       "       [  3.08694580e-04,   9.99691367e-01],\n",
       "       [  6.08625589e-03,   9.93913710e-01],\n",
       "       [  2.76466785e-03,   9.97235358e-01],\n",
       "       [  9.11002513e-03,   9.90889966e-01],\n",
       "       [  8.91429838e-03,   9.91085708e-01],\n",
       "       [  7.34434556e-03,   9.92655635e-01],\n",
       "       [  4.56900336e-03,   9.95430946e-01],\n",
       "       [  7.74415239e-05,   9.99922514e-01]])"
      ]
     },
     "execution_count": 125,
     "metadata": {},
     "output_type": "execute_result"
    }
   ],
   "source": [
    "batchout"
   ]
  },
  {
   "cell_type": "code",
   "execution_count": 119,
   "metadata": {
    "collapsed": false
   },
   "outputs": [
    {
     "name": "stdout",
     "output_type": "stream",
     "text": [
      "18\n",
      "[ 0.3728978  0.6271022]\n",
      "footballgood/good/2017-04-0614-51-20football19.png\n",
      "24\n",
      "[ 0.42925912  0.57074082]\n",
      "footballgood/good/2017-04-0614-53-53football110.png\n",
      "36\n",
      "[ 0.28074372  0.71925634]\n",
      "footballgood/good/2017-04-0615-02-31football112.png\n"
     ]
    }
   ],
   "source": [
    "for i in range(0,len(batchout)):\n",
    "    \n",
    "    if batchout[i,0] < batchout[i,1]:\n",
    "        print(i)\n",
    "        print(batchout[i,:])\n",
    "        print(filelist2[i])"
   ]
  },
  {
   "cell_type": "code",
   "execution_count": 120,
   "metadata": {
    "collapsed": false
   },
   "outputs": [],
   "source": [
    "goodresults = batchout.copy()"
   ]
  },
  {
   "cell_type": "code",
   "execution_count": null,
   "metadata": {
    "collapsed": true
   },
   "outputs": [],
   "source": []
  }
 ],
 "metadata": {
  "kernelspec": {
   "display_name": "Python 3",
   "language": "python",
   "name": "python3"
  },
  "language_info": {
   "codemirror_mode": {
    "name": "ipython",
    "version": 3
   },
   "file_extension": ".py",
   "mimetype": "text/x-python",
   "name": "python",
   "nbconvert_exporter": "python",
   "pygments_lexer": "ipython3",
   "version": "3.5.3"
  }
 },
 "nbformat": 4,
 "nbformat_minor": 2
}
